{
 "cells": [
  {
   "cell_type": "code",
   "execution_count": 1,
   "id": "c6e2d004",
   "metadata": {},
   "outputs": [
    {
     "name": "stdout",
     "output_type": "stream",
     "text": [
      "importing Jupyter notebook from davis_putnam.ipynb\n",
      "importing Jupyter notebook from maze_problem.ipynb\n",
      "importing Jupyter notebook from davis_front.ipynb\n",
      "importing Jupyter notebook from davis_back.ipynb\n"
     ]
    }
   ],
   "source": [
    "import import_ipynb\n",
    "from davis_putnam import Solver\n",
    "from maze_problem import Maze\n",
    "from davis_front import Front\n",
    "from davis_back import Back"
   ]
  },
  {
   "cell_type": "code",
   "execution_count": 2,
   "id": "f84c5111",
   "metadata": {},
   "outputs": [],
   "source": [
    "def main():\n",
    "    \n",
    "    maze = Maze()\n",
    "    maze.getInput('FrontEndInput.txt')\n",
    "    \n",
    "    nodes = maze.getNodes()\n",
    "    treasures = maze.getTreasures()\n",
    "    steps = maze.getSteps()\n",
    "    paths = maze.getPaths()\n",
    "    \n",
    "    front = Front(nodes, treasures, steps, paths)\n",
    "    front.formatting()\n",
    "    pro = front.getProp()\n",
    "    \n",
    "    dp = Solver()\n",
    "    dp.getInput('FrontEndOutput.txt')\n",
    "    \n",
    "    CS = dp.getCS()\n",
    "    B = dp.getB()\n",
    "    \n",
    "    dp.dpll(CS, B)\n",
    "    dp.formatting()\n",
    "    \n",
    "    back = Back()\n",
    "    back.getInput('DPOutput.txt', nodes, steps, pro)\n",
    "    back.output()\n",
    "    \n",
    "    "
   ]
  },
  {
   "cell_type": "code",
   "execution_count": 3,
   "id": "eb3c4a12",
   "metadata": {},
   "outputs": [
    {
     "name": "stdout",
     "output_type": "stream",
     "text": [
      "defaultdict(<class 'list'>, {1: [1, -1], 2: [-2], 3: [-3], 4: [-4], 5: [-5], 6: [-6], 7: [-7], 8: [-8], 9: [-9], 10: [10, -10], 11: [11, -11], 12: [-12, 12], 13: [-13, 13], 14: [-14, 14], 15: [-15, 15], 16: [-16, 16], 17: [17, -17], 18: [18, -18], 19: [19, -19], 20: [-20, 20], 21: [-21, 21], 22: [-22, 22], 23: [-23, 23], 24: [-24, 24], 25: [25, -25], 26: [26, -26], 27: [27, -27], 28: [-28, 28], 29: [-29, 29], 30: [-30, 30], 31: [-31, 31], 32: [-32, 32], 33: [33, -33], 34: [34, -34], 35: [35, -35], 36: [-36, 36], 37: [-37, 37], 38: [-38, 38], 39: [-39, 39], 40: [-40, 40], 41: [41, -41], 42: [42, -42], 43: [43, -43], 44: [-44, 44], 45: [-45, 45], 46: [-46, 46], 47: [-47, 47], 48: [-48, 48], 49: [49, -49], 50: [50, -50], 51: [51, -51], 52: [-52, 52], 53: [-53, 53], 54: [-54, 54], 55: [-55, 55], 57: [57, -57], 58: [58, -58], 59: [59, -59], 60: [-60, 60], 62: [-62, 62], 63: [-63, 63], 64: [64, -64], 65: [65, -65], 67: [67, -67], 68: [-68, 68], 69: [-69, 69], 70: [-70, 70], 72: [72, -72], 73: [73, -73], 74: [74, -74], 75: [75, -75], 77: [-77, 77], 78: [-78, 78], 79: [-79, 79], 80: [80, -80], 82: [82, -82], 83: [83, -83], 84: [-84, 84]})\n",
      "[[-50, -51], [-50], [-50, -53], [-50, -54], [-51], [-51, -53], [-51, -54], [-53], [-54], [-53, -54], [], [], [], [54]]\n"
     ]
    },
    {
     "ename": "KeyError",
     "evalue": "50",
     "output_type": "error",
     "traceback": [
      "\u001b[0;31m---------------------------------------------------------------------------\u001b[0m",
      "\u001b[0;31mKeyError\u001b[0m                                  Traceback (most recent call last)",
      "\u001b[0;32m/var/folders/w0/bpv300lj3_jg23flnpbddqqm0000gn/T/ipykernel_37960/451043146.py\u001b[0m in \u001b[0;36m<module>\u001b[0;34m\u001b[0m\n\u001b[0;32m----> 1\u001b[0;31m \u001b[0mmain\u001b[0m\u001b[0;34m(\u001b[0m\u001b[0;34m)\u001b[0m\u001b[0;34m\u001b[0m\u001b[0m\n\u001b[0m",
      "\u001b[0;32m/var/folders/w0/bpv300lj3_jg23flnpbddqqm0000gn/T/ipykernel_37960/224644694.py\u001b[0m in \u001b[0;36mmain\u001b[0;34m()\u001b[0m\n\u001b[1;32m     20\u001b[0m \u001b[0;34m\u001b[0m\u001b[0m\n\u001b[1;32m     21\u001b[0m     \u001b[0mdp\u001b[0m\u001b[0;34m.\u001b[0m\u001b[0mdpll\u001b[0m\u001b[0;34m(\u001b[0m\u001b[0mCS\u001b[0m\u001b[0;34m,\u001b[0m \u001b[0mB\u001b[0m\u001b[0;34m)\u001b[0m\u001b[0;34m\u001b[0m\u001b[0m\n\u001b[0;32m---> 22\u001b[0;31m     \u001b[0mdp\u001b[0m\u001b[0;34m.\u001b[0m\u001b[0mformatting\u001b[0m\u001b[0;34m(\u001b[0m\u001b[0;34m)\u001b[0m\u001b[0;34m\u001b[0m\u001b[0m\n\u001b[0m\u001b[1;32m     23\u001b[0m \u001b[0;34m\u001b[0m\u001b[0m\n\u001b[1;32m     24\u001b[0m     \u001b[0mback\u001b[0m \u001b[0;34m=\u001b[0m \u001b[0mBack\u001b[0m\u001b[0;34m(\u001b[0m\u001b[0;34m)\u001b[0m\u001b[0;34m\u001b[0m\u001b[0m\n",
      "\u001b[0;32m~/Desktop/AI_Sang/AI_Sang_PA2/davis_putnam.ipynb\u001b[0m in \u001b[0;36mformatting\u001b[0;34m(self)\u001b[0m\n",
      "\u001b[0;31mKeyError\u001b[0m: 50"
     ]
    }
   ],
   "source": [
    "main()"
   ]
  },
  {
   "cell_type": "code",
   "execution_count": null,
   "id": "ae9d6737",
   "metadata": {},
   "outputs": [],
   "source": []
  }
 ],
 "metadata": {
  "kernelspec": {
   "display_name": "Python 3 (ipykernel)",
   "language": "python",
   "name": "python3"
  },
  "language_info": {
   "codemirror_mode": {
    "name": "ipython",
    "version": 3
   },
   "file_extension": ".py",
   "mimetype": "text/x-python",
   "name": "python",
   "nbconvert_exporter": "python",
   "pygments_lexer": "ipython3",
   "version": "3.7.0"
  }
 },
 "nbformat": 4,
 "nbformat_minor": 5
}

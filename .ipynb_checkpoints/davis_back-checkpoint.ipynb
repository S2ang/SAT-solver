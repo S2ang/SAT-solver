{
 "cells": [
  {
   "cell_type": "code",
   "execution_count": 11,
   "id": "939ade81",
   "metadata": {},
   "outputs": [],
   "source": [
    "class Back:\n",
    "    \n",
    "    def __init__(self):\n",
    "        \n",
    "        self.paths = []\n",
    "    \n",
    "    def getInput(self, txt, nodes, steps, prop):\n",
    "        \n",
    "        with open(txt, 'r') as f:\n",
    "            data = f.readlines()\n",
    "            idx = len(nodes) * (steps+1)\n",
    "            ans = []\n",
    "            \n",
    "            for i in data[:idx]:\n",
    "                item = i.split()\n",
    "                if item[1] == 'T':\n",
    "                    ans.append(int(item[0]))\n",
    "            \n",
    "            for i in ans:\n",
    "                for j in prop:\n",
    "                    if prop[j] == i:\n",
    "                        self.paths.append(j[0])\n",
    "         \n",
    "    def output(self):\n",
    "        \n",
    "        with open('BackEndOutput.txt', 'w') as f:\n",
    "            for i in self.paths:\n",
    "                f.write(f\"{i} \")\n",
    "        \n",
    "                "
   ]
  },
  {
   "cell_type": "code",
   "execution_count": null,
   "id": "b3028c3f",
   "metadata": {},
   "outputs": [],
   "source": []
  }
 ],
 "metadata": {
  "kernelspec": {
   "display_name": "Python 3 (ipykernel)",
   "language": "python",
   "name": "python3"
  },
  "language_info": {
   "codemirror_mode": {
    "name": "ipython",
    "version": 3
   },
   "file_extension": ".py",
   "mimetype": "text/x-python",
   "name": "python",
   "nbconvert_exporter": "python",
   "pygments_lexer": "ipython3",
   "version": "3.7.0"
  }
 },
 "nbformat": 4,
 "nbformat_minor": 5
}

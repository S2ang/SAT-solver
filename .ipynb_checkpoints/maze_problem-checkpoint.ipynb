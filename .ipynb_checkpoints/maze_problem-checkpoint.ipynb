{
 "cells": [
  {
   "cell_type": "code",
   "execution_count": 19,
   "id": "597ad5eb",
   "metadata": {},
   "outputs": [],
   "source": [
    "from collections import defaultdict\n",
    "\n",
    "class Maze:\n",
    "    \n",
    "    def __init__(self):\n",
    "        \n",
    "        self.nodes = []\n",
    "        self.treasures = defaultdict(tuple)\n",
    "        self.steps = 0\n",
    "        self.paths = defaultdict(list)\n",
    "    \n",
    "    def getInput(self, txt):\n",
    "        \n",
    "        with open(txt, 'r') as f:\n",
    "            data = f.readlines()\n",
    "            \n",
    "            self.nodes = data[0].strip().split()\n",
    "            tr = data[1].strip().split()\n",
    "            self.steps = int(data[2].strip())\n",
    "            \n",
    "            for i in data[3:]:\n",
    "                d = i.strip().split()\n",
    "                \n",
    "                t_idx = d.index('TREASURES')\n",
    "                n_idx = d.index('NEXT')\n",
    "                \n",
    "                # check if a node has treasures or not\n",
    "                if d[t_idx+1] in tr:\n",
    "                    arr = []\n",
    "                    for k in d[t_idx+1: n_idx]:\n",
    "                         arr.append(k)\n",
    "                    self.treasures[d[0]] = tuple(arr)\n",
    "                \n",
    "                for j in d[n_idx+1:]:\n",
    "                    self.paths[d[0]].append(j)\n",
    "    \n",
    "    def getNodes(self):\n",
    "        return self.nodes\n",
    "    \n",
    "    def getTreasures(self):\n",
    "        return self.treasures\n",
    "    \n",
    "    def getSteps(self):\n",
    "        return self.steps\n",
    "    \n",
    "    def getPaths(self):\n",
    "        return self.paths\n",
    "                \n",
    "        "
   ]
  },
  {
   "cell_type": "code",
   "execution_count": null,
   "id": "02bb0f6e",
   "metadata": {},
   "outputs": [],
   "source": []
  }
 ],
 "metadata": {
  "kernelspec": {
   "display_name": "Python 3 (ipykernel)",
   "language": "python",
   "name": "python3"
  },
  "language_info": {
   "codemirror_mode": {
    "name": "ipython",
    "version": 3
   },
   "file_extension": ".py",
   "mimetype": "text/x-python",
   "name": "python",
   "nbconvert_exporter": "python",
   "pygments_lexer": "ipython3",
   "version": "3.7.0"
  }
 },
 "nbformat": 4,
 "nbformat_minor": 5
}

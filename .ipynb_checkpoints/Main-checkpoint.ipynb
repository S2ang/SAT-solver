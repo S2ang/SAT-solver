{
 "cells": [
  {
   "cell_type": "code",
   "execution_count": 1,
   "id": "c6e2d004",
   "metadata": {},
   "outputs": [
    {
     "name": "stdout",
     "output_type": "stream",
     "text": [
      "importing Jupyter notebook from davis_putnam.ipynb\n",
      "importing Jupyter notebook from maze_problem.ipynb\n",
      "importing Jupyter notebook from davis_front.ipynb\n",
      "importing Jupyter notebook from davis_back.ipynb\n"
     ]
    }
   ],
   "source": [
    "import import_ipynb\n",
    "from davis_putnam import Solver\n",
    "from maze_problem import Maze\n",
    "from davis_front import Front\n",
    "from davis_back import Back"
   ]
  },
  {
   "cell_type": "code",
   "execution_count": 2,
   "id": "f84c5111",
   "metadata": {},
   "outputs": [],
   "source": [
    "def main():\n",
    "    \n",
    "    maze = Maze()\n",
    "    maze.getInput('FrontEndInput.txt')\n",
    "    \n",
    "    nodes = maze.getNodes()\n",
    "    treasures = maze.getTreasures()\n",
    "    steps = maze.getSteps()\n",
    "    paths = maze.getPaths()\n",
    "    \n",
    "    front = Front(nodes, treasures, steps, paths)\n",
    "    front.formatting()\n",
    "    pro = front.getProp()\n",
    "    \n",
    "    dp = Solver()\n",
    "    dp.getInput('FrontEndOutput.txt')\n",
    "    \n",
    "    CS = dp.getCS()\n",
    "    B = dp.getB()\n",
    "    \n",
    "    dp.dpll(CS, B)\n",
    "    dp.formatting()\n",
    "    \n",
    "    back = Back()\n",
    "    back.getInput('DPOutput.txt', nodes, steps, pro)\n",
    "    back.output()\n",
    "    \n",
    "    "
   ]
  },
  {
   "cell_type": "code",
   "execution_count": 3,
   "id": "eb3c4a12",
   "metadata": {},
   "outputs": [],
   "source": [
    "main()"
   ]
  },
  {
   "cell_type": "code",
   "execution_count": null,
   "id": "ae9d6737",
   "metadata": {},
   "outputs": [],
   "source": []
  }
 ],
 "metadata": {
  "kernelspec": {
   "display_name": "Python 3 (ipykernel)",
   "language": "python",
   "name": "python3"
  },
  "language_info": {
   "codemirror_mode": {
    "name": "ipython",
    "version": 3
   },
   "file_extension": ".py",
   "mimetype": "text/x-python",
   "name": "python",
   "nbconvert_exporter": "python",
   "pygments_lexer": "ipython3",
   "version": "3.7.0"
  }
 },
 "nbformat": 4,
 "nbformat_minor": 5
}
